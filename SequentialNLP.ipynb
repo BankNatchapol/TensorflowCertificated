{
  "nbformat": 4,
  "nbformat_minor": 0,
  "metadata": {
    "colab": {
      "name": "SequentialNLP.ipynb",
      "provenance": []
    },
    "kernelspec": {
      "name": "python3",
      "display_name": "Python 3"
    },
    "accelerator": "GPU"
  },
  "cells": [
    {
      "cell_type": "code",
      "metadata": {
        "id": "kjLCL-d-7iOF"
      },
      "source": [
        "import tensorflow as tf\n",
        "from tensorflow.keras.preprocessing.text import Tokenizer\n",
        "from tensorflow.keras.preprocessing.sequence import pad_sequences\n",
        "from tensorflow.keras.layers import Embedding, Input, Dense, LSTM, Bidirectional, Dropout"
      ],
      "execution_count": 1,
      "outputs": []
    },
    {
      "cell_type": "code",
      "metadata": {
        "id": "rmavTm6olx38",
        "outputId": "aac4f6d7-e367-4257-dbd0-a61d3874a69d",
        "colab": {
          "base_uri": "https://localhost:8080/"
        }
      },
      "source": [
        "!wget https://storage.googleapis.com/laurencemoroney-blog.appspot.com/irish-lyrics-eof.txt"
      ],
      "execution_count": 2,
      "outputs": [
        {
          "output_type": "stream",
          "text": [
            "--2020-11-05 04:11:34--  https://storage.googleapis.com/laurencemoroney-blog.appspot.com/irish-lyrics-eof.txt\n",
            "Resolving storage.googleapis.com (storage.googleapis.com)... 172.217.164.144, 172.253.122.128, 142.250.31.128, ...\n",
            "Connecting to storage.googleapis.com (storage.googleapis.com)|172.217.164.144|:443... connected.\n",
            "HTTP request sent, awaiting response... 200 OK\n",
            "Length: 68970 (67K) [text/plain]\n",
            "Saving to: ‘irish-lyrics-eof.txt’\n",
            "\n",
            "\rirish-lyrics-eof.tx   0%[                    ]       0  --.-KB/s               \rirish-lyrics-eof.tx 100%[===================>]  67.35K  --.-KB/s    in 0.001s  \n",
            "\n",
            "2020-11-05 04:11:34 (126 MB/s) - ‘irish-lyrics-eof.txt’ saved [68970/68970]\n",
            "\n"
          ],
          "name": "stdout"
        }
      ]
    },
    {
      "cell_type": "code",
      "metadata": {
        "id": "e56Bk2wn7UkF",
        "outputId": "069be4fa-6cf1-4c25-ef52-df5a6daef468",
        "colab": {
          "base_uri": "https://localhost:8080/"
        }
      },
      "source": [
        "with open('/content/irish-lyrics-eof.txt', 'r') as f:\n",
        "  data = f.read()\n",
        "dataset = data.split('\\n')\n",
        "\n",
        "tokenizer = Tokenizer(oov_token='<OOV>')\n",
        "tokenizer.fit_on_texts(dataset)\n",
        "print(tokenizer.word_index)"
      ],
      "execution_count": 3,
      "outputs": [
        {
          "output_type": "stream",
          "text": [
            "{'<OOV>': 1, 'the': 2, 'and': 3, 'i': 4, 'to': 5, 'a': 6, 'of': 7, 'my': 8, 'in': 9, 'me': 10, 'for': 11, 'you': 12, 'all': 13, 'was': 14, 'she': 15, 'that': 16, 'on': 17, 'with': 18, 'her': 19, 'but': 20, 'as': 21, 'when': 22, 'love': 23, 'is': 24, 'your': 25, 'it': 26, 'will': 27, 'from': 28, 'by': 29, 'they': 30, 'be': 31, 'are': 32, 'so': 33, 'he': 34, 'old': 35, 'no': 36, 'oh': 37, 'ill': 38, 'at': 39, 'one': 40, 'his': 41, 'there': 42, 'were': 43, 'heart': 44, 'down': 45, 'now': 46, 'we': 47, 'where': 48, 'young': 49, 'never': 50, 'go': 51, 'come': 52, 'then': 53, 'did': 54, 'not': 55, 'said': 56, 'away': 57, 'their': 58, 'sweet': 59, 'them': 60, 'green': 61, 'if': 62, 'take': 63, 'our': 64, 'like': 65, 'night': 66, 'day': 67, 'o': 68, 'out': 69, 'fair': 70, 'this': 71, 'town': 72, 'have': 73, 'can': 74, 'true': 75, 'its': 76, 'thou': 77, 'see': 78, 'dear': 79, 'more': 80, 'theres': 81, 'or': 82, 'had': 83, 'would': 84, 'over': 85, 'hear': 86, 'up': 87, 'ive': 88, 'through': 89, 'home': 90, 'again': 91, 'well': 92, 'oer': 93, 'land': 94, 'good': 95, 'im': 96, 'ye': 97, 'sea': 98, 'left': 99, 'still': 100, 'father': 101, 'long': 102, 'rose': 103, 'could': 104, 'morning': 105, 'wild': 106, 'who': 107, 'eyes': 108, 'came': 109, 'while': 110, 'too': 111, 'back': 112, 'little': 113, 'an': 114, 'took': 115, 'him': 116, 'bow': 117, 'first': 118, 'let': 119, 'man': 120, 'shall': 121, 'know': 122, 'get': 123, 'high': 124, 'gone': 125, 'say': 126, 'ever': 127, 'some': 128, 'mary': 129, 'hand': 130, 'till': 131, 'put': 132, 'own': 133, 'time': 134, 'heard': 135, 'dead': 136, 'may': 137, 'bright': 138, 'mountain': 139, 'early': 140, 'rosin': 141, 'gave': 142, 'thee': 143, 'only': 144, 'far': 145, 'maid': 146, 'must': 147, 'find': 148, 'girl': 149, 'sure': 150, 'round': 151, 'dublin': 152, 'once': 153, 'world': 154, 'delight': 155, 'last': 156, 'johnny': 157, 'seen': 158, 'has': 159, 'fine': 160, 'road': 161, 'mother': 162, 'tis': 163, 'what': 164, 'way': 165, 'moon': 166, 'soul': 167, 'neer': 168, 'id': 169, 'just': 170, 'thats': 171, 'days': 172, 'darling': 173, 'went': 174, 'white': 175, 'die': 176, 'than': 177, 'hair': 178, 'goes': 179, 'meet': 180, 'today': 181, 'do': 182, 'girls': 183, 'shes': 184, 'thyme': 185, 'thy': 186, 'sing': 187, 'pretty': 188, 'new': 189, 'poor': 190, 'into': 191, 'life': 192, 'irish': 193, 'give': 194, 'boy': 195, 'youre': 196, 'make': 197, 'passed': 198, 'lovely': 199, 'black': 200, 'youll': 201, 'died': 202, 'red': 203, 'smile': 204, 'keep': 205, 'loves': 206, 'free': 207, 'leave': 208, 'friends': 209, 'each': 210, 'saw': 211, 'behind': 212, 'song': 213, 'ra': 214, 'dont': 215, 'arms': 216, 'am': 217, 'sun': 218, 'saying': 219, 'made': 220, 'wish': 221, 'cold': 222, 'met': 223, 'before': 224, 'should': 225, 'rocky': 226, 'light': 227, 'wid': 228, 'boys': 229, 'best': 230, 'fields': 231, 'since': 232, 'ball': 233, 'water': 234, 'casey': 235, 'mind': 236, 'along': 237, 'loved': 238, 'place': 239, 'ireland': 240, 'next': 241, 'three': 242, 'many': 243, 'years': 244, 'door': 245, 'us': 246, 'drink': 247, 'got': 248, 'might': 249, 'live': 250, 'roses': 251, 'play': 252, 'soon': 253, 'ground': 254, 'times': 255, 'spent': 256, 'going': 257, 'tree': 258, 'barley': 259, 'grass': 260, 'kind': 261, 'twas': 262, 'bridge': 263, 'around': 264, 'blue': 265, 'tell': 266, 'row': 267, 'how': 268, 'money': 269, 'merry': 270, 'stepped': 271, 'corporal': 272, 'always': 273, 'though': 274, 'near': 275, 'taken': 276, 'ones': 277, 'daughter': 278, 'forever': 279, 'loo': 280, 'shining': 281, 'plenty': 282, 'hes': 283, 'ship': 284, 'banks': 285, 'think': 286, 'very': 287, 'stand': 288, 'heres': 289, 'snow': 290, 'mountains': 291, 'molly': 292, 'wheel': 293, 'street': 294, 'erin': 295, 'side': 296, 'feet': 297, 'star': 298, 'look': 299, 'brave': 300, 'woman': 301, 'sons': 302, 'two': 303, 'says': 304, 'asked': 305, 'lanigans': 306, 'singing': 307, 'men': 308, 'toome': 309, 'stole': 310, 'god': 311, 'hill': 312, 'lonely': 313, 'lover': 314, 'tears': 315, 'fathers': 316, 'low': 317, 'voice': 318, 'quite': 319, 'able': 320, 'nice': 321, 'laid': 322, 'comrades': 323, 'wind': 324, 'another': 325, 'sit': 326, 'face': 327, 'band': 328, 'call': 329, 'colleen': 330, 'until': 331, 'hills': 332, 'mine': 333, 'above': 334, 'upon': 335, 'eer': 336, 'youve': 337, 'fly': 338, 'been': 339, 'late': 340, 'alive': 341, 'ballyjamesduff': 342, 'looked': 343, 'great': 344, 'why': 345, 'every': 346, 'proud': 347, 'found': 348, 'bragh': 349, 'such': 350, 'birds': 351, 'wedding': 352, 'welcome': 353, 'dancing': 354, 'da': 355, 'fell': 356, 'thinking': 357, 'roddy': 358, 'mccorley': 359, 'smiling': 360, 'mallow': 361, 'blooming': 362, 'thought': 363, 'peace': 364, 'soft': 365, 'pure': 366, 'harp': 367, 'dream': 368, 'alas': 369, 'yet': 370, 'clear': 371, 'art': 372, 'off': 373, 'hope': 374, 'fought': 375, 'mothers': 376, 'shore': 377, 'ago': 378, 'fol': 379, 'de': 380, 'house': 381, 'married': 382, 'bound': 383, 'danced': 384, 'devil': 385, 'dawning': 386, 'makes': 387, 'same': 388, 'sat': 389, 'any': 390, 'glass': 391, 'gay': 392, 'relations': 393, 'evening': 394, 'watched': 395, 'right': 396, 'fellows': 397, 'whiskey': 398, 'bonnie': 399, 'grows': 400, 'women': 401, 'flowers': 402, 'beauty': 403, 'cannot': 404, 'handsome': 405, 'happy': 406, 'gold': 407, 'rover': 408, 'none': 409, 'doneen': 410, 'summers': 411, 'people': 412, 'set': 413, 'paddy': 414, 'morn': 415, 'most': 416, 'easy': 417, 'struck': 418, 'beautiful': 419, 'those': 420, 'golden': 421, 'run': 422, 'pipes': 423, 'glen': 424, 'dying': 425, 'here': 426, 'wall': 427, 'across': 428, 'fire': 429, 'eileen': 430, 'longer': 431, 'cheeks': 432, 'valley': 433, 'both': 434, 'dew': 435, 'care': 436, 'bride': 437, 'nothing': 438, 'wont': 439, 'theyre': 440, 'colonel': 441, 'maiden': 442, 'shed': 443, 'til': 444, 'brown': 445, 'breast': 446, 'corn': 447, 'sinking': 448, 'began': 449, 'name': 450, 'cruel': 451, 'sound': 452, 'spancil': 453, 'county': 454, 'lies': 455, 'color': 456, 'thing': 457, 'decay': 458, 'sleep': 459, 'hours': 460, 'loving': 461, 'weary': 462, 'ringing': 463, 'please': 464, 'forget': 465, 'lie': 466, 'ran': 467, 'tore': 468, 'country': 469, 'fear': 470, 'fortune': 471, 'kissed': 472, 'alone': 473, 'ould': 474, 'cry': 475, 'dreams': 476, 'used': 477, 'horse': 478, 'break': 479, 'bells': 480, 'didnt': 481, 'weeks': 482, 'without': 483, 'raw': 484, 'nor': 485, 'twenty': 486, 'tune': 487, 'hed': 488, 'roving': 489, 'leaves': 490, 'cant': 491, 'death': 492, 'ten': 493, 'prison': 494, 'judge': 495, 'against': 496, 'lads': 497, 'shell': 498, 'fill': 499, 'valleys': 500, 'other': 501, 'pale': 502, 'joy': 503, 'wide': 504, 'bring': 505, 'ah': 506, 'cliffs': 507, 'city': 508, 'end': 509, 'turn': 510, 'sky': 511, 'born': 512, 'knew': 513, 'smiled': 514, 'rosie': 515, 'comes': 516, 'sayin': 517, 'lord': 518, 'dungannon': 519, 'blood': 520, 'air': 521, 'danny': 522, 'calling': 523, 'sunshine': 524, 'spring': 525, 'bid': 526, 'grow': 527, 'truth': 528, 'tear': 529, 'rings': 530, 'guns': 531, 'bay': 532, 'oflynn': 533, 'och': 534, 'stick': 535, 'rest': 536, 'four': 537, 'jewel': 538, 'tried': 539, 'grief': 540, 'answer': 541, 'kathleen': 542, 'fond': 543, 'eye': 544, 'goin': 545, 'pistols': 546, 'musha': 547, 'whack': 548, 'creole': 549, 'together': 550, 'room': 551, 'fall': 552, 'swore': 553, 'being': 554, 'step': 555, 'lark': 556, 'cailín': 557, 'deas': 558, 'crúite': 559, 'na': 560, 'mbó': 561, 'sir': 562, 'isle': 563, 'waiting': 564, 'magic': 565, 'skibbereen': 566, 'loud': 567, 'raise': 568, 'bent': 569, 'aged': 570, 'summer': 571, 'jenny': 572, 'excise': 573, 'rigadoo': 574, 'auld': 575, 'hearts': 576, 'nay': 577, 'stool': 578, 'farrell': 579, 'garden': 580, 'precious': 581, 'child': 582, 'slumber': 583, 'sleeping': 584, 'watch': 585, 'gently': 586, 'minstrel': 587, 'praise': 588, 'bell': 589, 'shaken': 590, 'immortal': 591, 'pray': 592, 'stay': 593, 'spoke': 594, 'cross': 595, 'brothers': 596, 'much': 597, 'past': 598, 'killarney': 599, 'sang': 600, 'tones': 601, 'ral': 602, 'wander': 603, 'cot': 604, 'feel': 605, 'yore': 606, 'answered': 607, 'divil': 608, 'middle': 609, 'bit': 610, 'led': 611, 'soldiers': 612, 'lily': 613, 'bed': 614, 'lassie': 615, 'clothes': 616, 'return': 617, 'broken': 618, 'derry': 619, 'sighed': 620, 'english': 621, 'tomorrow': 622, 'souls': 623, 'van': 624, 'diemans': 625, 'law': 626, 'neither': 627, 'winds': 628, 'rather': 629, 'doesnt': 630, 'rosy': 631, 'neatest': 632, 'hands': 633, 'whereon': 634, 'stands': 635, 'write': 636, 'thousand': 637, 'fare': 638, 'youd': 639, 'velvet': 640, 'neat': 641, 'landed': 642, 'health': 643, 'kellswater': 644, 'quiet': 645, 'stars': 646, 'beside': 647, 'warm': 648, 'sunday': 649, 'grey': 650, 'ocean': 651, 'sad': 652, 'spend': 653, 'kilkenny': 654, 'silver': 655, 'view': 656, 'west': 657, 'plain': 658, 'barrow': 659, 'broad': 660, 'narrow': 661, 'crying': 662, 'wonder': 663, 'save': 664, 'stop': 665, 'tender': 666, 'told': 667, 'lip': 668, 'dance': 669, 'foot': 670, 'kilrain': 671, 'saint': 672, 'visit': 673, 'mossy': 674, 'wexford': 675, 'irishmen': 676, 'shadow': 677, 'tho': 678, 'salley': 679, 'gardens': 680, 'foolish': 681, 'youth': 682, 'fade': 683, 'war': 684, 'believe': 685, 'which': 686, 'change': 687, 'entwine': 688, 'turns': 689, 'turned': 690, 'crown': 691, 'played': 692, 'captain': 693, 'blow': 694, 'children': 695, 'slainte': 696, 'gentle': 697, 'heavens': 698, 'bloom': 699, 'grand': 700, 'bush': 701, 'nest': 702, 'rich': 703, 'parting': 704, 'better': 705, 'window': 706, 'haste': 707, 'fresh': 708, 'stream': 709, 'rays': 710, 'ma': 711, 'ring': 712, 'lad': 713, 'athy': 714, 'drop': 715, 'hardly': 716, 'done': 717, 'arm': 718, 'leg': 719, 'beg': 720, 'drew': 721, 'bold': 722, 'drawn': 723, 'jail': 724, 'writin': 725, 'farewell': 726, 'tired': 727, 'lake': 728, 'want': 729, 'ringlets': 730, 'myself': 731, 'songs': 732, 'reel': 733, 'steps': 734, 'hearty': 735, 'fainted': 736, 'called': 737, 'under': 738, 'toe': 739, 'mairi': 740, 'fairest': 741, 'darlin': 742, 'bird': 743, 'memory': 744, 'lips': 745, 'sweetly': 746, 'morrow': 747, 'consent': 748, 'else': 749, 'sold': 750, 'stout': 751, 'pair': 752, 'drinking': 753, 'meself': 754, 'fray': 755, 'pike': 756, 'coat': 757, 'beneath': 758, 'rent': 759, 'part': 760, 'half': 761, 'head': 762, 'friend': 763, 'standing': 764, 'floor': 765, 'bare': 766, 'wed': 767, 'son': 768, 'pride': 769, 'vision': 770, 'sword': 771, 'after': 772, 'won': 773, 'farmers': 774, 'flower': 775, 'nut': 776, 'surely': 777, 'stood': 778, 'wandered': 779, 'athenry': 780, 'rising': 781, 'beating': 782, 'form': 783, 'dhu': 784, 'buy': 785, 'laughter': 786, 'wear': 787, 'raking': 788, 'rakes': 789, 'claret': 790, 'shure': 791, 'tralee': 792, 'slower': 793, 'lower': 794, 'deep': 795, 'wearin': 796, 'duram': 797, 'takes': 798, 'beware': 799, 'steal': 800, 'brings': 801, 'things': 802, 'joys': 803, 'bunch': 804, 'sailor': 805, 'chanced': 806, 'pass': 807, 'angels': 808, 'send': 809, 'drowsy': 810, 'keeping': 811, 'spirit': 812, 'stealing': 813, 'feeling': 814, 'roam': 815, 'presence': 816, 'heavenward': 817, 'dust': 818, 'dim': 819, 'journey': 820, 'waves': 821, 'frightened': 822, 'leaving': 823, 'struggle': 824, 'parents': 825, 'courage': 826, 'weeping': 827, 'pain': 828, 'mist': 829, 'felt': 830, 'roared': 831, 'making': 832, 'fever': 833, 'moment': 834, 'distance': 835, 'wailing': 836, 'oft': 837, 'held': 838, 'fast': 839, 'cabin': 840, 'honey': 841, 'diddle': 842, 'clearly': 843, 'open': 844, 'opened': 845, 'table': 846, 'wine': 847, 'lay': 848, 'shells': 849, 'sailed': 850, 'drown': 851, 'fetters': 852, 'chains': 853, 'wives': 854, 'sorrow': 855, 'thoughts': 856, 'cursed': 857, 'hell': 858, 'five': 859, 'buried': 860, 'lost': 861, 'endless': 862, 'slavery': 863, 'gun': 864, 'rain': 865, 'cares': 866, 'ghosts': 867, 'runaway': 868, 'twill': 869, 'month': 870, 'meadows': 871, 'prettiest': 872, 'winters': 873, 'satisfied': 874, 'few': 875, 'short': 876, 'lines': 877, 'shone': 878, 'shoulder': 879, 'belfast': 880, 'trade': 881, 'bad': 882, 'caused': 883, 'stray': 884, 'meaning': 885, 'damsel': 886, 'appear': 887, 'seven': 888, 'sentence': 889, 'jolly': 890, 'whenever': 891, 'wee': 892, 'wife': 893, 'lives': 894, 'martha': 895, 'courted': 896, 'bridgit': 897, 'omalley': 898, 'desolation': 899, 'thorn': 900, 'gaze': 901, 'stone': 902, 'approaching': 903, 'sets': 904, 'carrigfergus': 905, 'nights': 906, 'swim': 907, 'wings': 908, 'sober': 909, 'travel': 910, 'native': 911, 'places': 912, 'slopes': 913, 'hares': 914, 'lofty': 915, 'malone': 916, 'wheeled': 917, 'streets': 918, 'enough': 919, 'reilly': 920, 'tough': 921, 'whispers': 922, 'phil': 923, 'threw': 924, 'straight': 925, 'belles': 926, 'moor': 927, 'brand': 928, 'shapes': 929, 'work': 930, 'vow': 931, 'blarney': 932, 'paid': 933, 'bower': 934, 'remain': 935, 'charming': 936, 'storied': 937, 'chieftains': 938, 'slaughter': 939, 'bann': 940, 'boyne': 941, 'liffey': 942, 'gallant': 943, 'awake': 944, 'greet': 945, 'meadow': 946, 'sweeter': 947, 'dirty': 948, 'cats': 949, 'crossed': 950, 'field': 951, 'river': 952, 'full': 953, 'aroon': 954, 'sends': 955, 'woe': 956, 'chain': 957, 'main': 958, 'charms': 959, 'fondly': 960, 'fleet': 961, 'fairy': 962, 'thine': 963, 'known': 964, 'truly': 965, 'close': 966, 'story': 967, 'flag': 968, 'sweetest': 969, 'honor': 970, 'playing': 971, 'mauser': 972, 'music': 973, 'tom': 974, 'hurrah': 975, 'big': 976, 'lead': 977, 'south': 978, 'generation': 979, 'freedom': 980, 'agin': 981, 'creature': 982, 'dad': 983, 'venture': 984, 'word': 985, 'wonderful': 986, 'crazy': 987, 'lazy': 988, 'grave': 989, 'jest': 990, 'remark': 991, 'strangers': 992, 'strong': 993, 'shook': 994, 'walk': 995, 'north': 996, 'ours': 997, 'cease': 998, 'strife': 999, 'whats': 1000, 'lilacs': 1001, 'prove': 1002, 'sweetheart': 1003, 'letters': 1004, 'sent': 1005, 'speak': 1006, 'brow': 1007, 'albert': 1008, 'mooney': 1009, 'fighting': 1010, 'fingers': 1011, 'toes': 1012, 'john': 1013, 'hurroo': 1014, 'drums': 1015, 'beguiled': 1016, 'carry': 1017, 'bone': 1018, 'havent': 1019, 'walkin': 1020, 'kilgary': 1021, 'pepper': 1022, 'countin': 1023, 'forth': 1024, 'deliver': 1025, 'daddy': 1026, 'em': 1027, 'deceive': 1028, 'between': 1029, 'even': 1030, 'prisoner': 1031, 'fists': 1032, 'knocked': 1033, 'carriages': 1034, 'rollin': 1035, 'juice': 1036, 'courtin': 1037, 'ponchartrain': 1038, 'does': 1039, 'stranger': 1040, 'marry': 1041, 'adieu': 1042, 'ask': 1043, 'tipped': 1044, 'arrived': 1045, 'ladies': 1046, 'potatoes': 1047, 'courting': 1048, 'miss': 1049, 'small': 1050, 'ned': 1051, 'ribbons': 1052, 'heel': 1053, 'bonny': 1054, 'pipe': 1055, 'thrush': 1056, 'sweethearts': 1057, 'unto': 1058, 'rise': 1059, 'softly': 1060, 'milking': 1061, 'rare': 1062, 'pity': 1063, 'treasure': 1064, 'noon': 1065, 'sailing': 1066, 'banish': 1067, 'riches': 1068, 'comfort': 1069, 'yonder': 1070, 'flows': 1071, 'fairer': 1072, 'lass': 1073, 'woods': 1074, 'strayed': 1075, 'locks': 1076, 'breaking': 1077, 'june': 1078, 'started': 1079, 'hearted': 1080, 'beer': 1081, 'daylight': 1082, 'among': 1083, 'bundle': 1084, 'connaught': 1085, 'quay': 1086, 'erins': 1087, 'galway': 1088, 'fearless': 1089, 'bravely': 1090, 'marches': 1091, 'fate': 1092, 'neck': 1093, 'trod': 1094, 'marched': 1095, 'antrim': 1096, 'sash': 1097, 'flashed': 1098, 'hath': 1099, 'foemans': 1100, 'fight': 1101, 'heavy': 1102, 'bore': 1103, 'mans': 1104, 'counter': 1105, 'dozen': 1106, 'gallon': 1107, 'bottles': 1108, 'diamond': 1109, 'resemble': 1110, 'tiny': 1111, 'friendly': 1112, 'weather': 1113, 'inside': 1114, 'remember': 1115, 'someone': 1116, 'hat': 1117, 'body': 1118, 'dancers': 1119, 'hanging': 1120, 'empty': 1121, 'shoes': 1122, 'broke': 1123, 'december': 1124, 'move': 1125, 'reason': 1126, 'roof': 1127, 'naught': 1128, 'tower': 1129, 'power': 1130, 'king': 1131, 'dreaming': 1132, 'crew': 1133, 'whos': 1134, 'mccann': 1135, 'smoke': 1136, 'notes': 1137, 'yeoman': 1138, 'cavalry': 1139, 'guard': 1140, 'forced': 1141, 'brother': 1142, 'cousin': 1143, 'blame': 1144, 'croppy': 1145, 'dressed': 1146, 'trees': 1147, 'wore': 1148, 'words': 1149, 'swiftly': 1150, 'dawn': 1151, 'lovd': 1152, 'voices': 1153, 'moaning': 1154, 'dark': 1155, 'gather': 1156, 'tay': 1157, 'swinging': 1158, 'drinkin': 1159, 'sitting': 1160, 'stile': 1161, 'springing': 1162, 'yours': 1163, 'kept': 1164, 'aisey': 1165, 'rub': 1166, 'dub': 1167, 'dow': 1168, 'shelah': 1169, 'fairly': 1170, 'beggarman': 1171, 'begging': 1172, 'slept': 1173, 'holes': 1174, 'coming': 1175, 'thru': 1176, 'boo': 1177, 'lady': 1178, 'kerry': 1179, 'pipers': 1180, 'laugh': 1181, 'beaming': 1182, 'guineas': 1183, 'least': 1184, 'diggin': 1185, 'mourne': 1186, 'spending': 1187, 'mellow': 1188, 'plying': 1189, 'slowly': 1190, 'mooncoin': 1191, 'flow': 1192, 'sounds': 1193, 'shine': 1194, 'cool': 1195, 'crystal': 1196, 'fountain': 1197, 'moonlight': 1198, 'grandmother': 1199, 'crooning': 1200, 'merrily': 1201, 'spins': 1202, 'lightly': 1203, 'moving': 1204, 'lattice': 1205, 'grove': 1206, 'swings': 1207, 'finger': 1208, 'shamrock': 1209, 'pocket': 1210, 'springtime': 1211, 'gilgarra': 1212, 'rapier': 1213, 'ringum': 1214, 'mornin': 1215, 'heather': 1216, 'build': 1217, 'maidens': 1218, 'prime': 1219, 'nlyme': 1220, 'flavours': 1221, 'lusty': 1222, 'reminded': 1223, 'attend': 1224, 'guardian': 1225, 'creeping': 1226, 'dale': 1227, 'vigil': 1228, 'visions': 1229, 'revealing': 1230, 'breathes': 1231, 'holy': 1232, 'strains': 1233, 'hover': 1234, 'hark': 1235, 'solemn': 1236, 'winging': 1237, 'earthly': 1238, 'shalt': 1239, 'awaken': 1240, 'destiny': 1241, 'emigrants': 1242, 'amid': 1243, 'longing': 1244, 'parted': 1245, 'townland': 1246, 'vessel': 1247, 'crowded': 1248, 'disquieted': 1249, 'folk': 1250, 'escape': 1251, 'hardship': 1252, 'sustaining': 1253, 'glimpse': 1254, 'faded': 1255, 'strangely': 1256, 'seas': 1257, 'anger': 1258, 'desperate': 1259, 'plight': 1260, 'worsened': 1261, 'delirium': 1262, 'possessed': 1263, 'clouded': 1264, 'prayers': 1265, 'begged': 1266, 'forgiveness': 1267, 'seeking': 1268, 'distant': 1269, 'mither': 1270, 'simple': 1271, 'ditty': 1272, 'ld': 1273, 'li': 1274, 'hush': 1275, 'lullaby': 1276, 'huggin': 1277, 'hummin': 1278, 'rock': 1279, 'asleep': 1280, 'outside': 1281, 'modestly': 1282, 'ry': 1283, 'ay': 1284, 'di': 1285, 're': 1286, 'dai': 1287, 'rie': 1288, 'shc': 1289, 'bridle': 1290, 'stable': 1291, 'oats': 1292, 'eat': 1293, 'soldier': 1294, 'aisy': 1295, 'arose': 1296, 'christmas': 1297, '1803': 1298, 'australia': 1299, 'marks': 1300, 'carried': 1301, 'rusty': 1302, 'iron': 1303, 'wains': 1304, 'mainsails': 1305, 'unfurled': 1306, 'curses': 1307, 'hurled': 1308, 'swell': 1309, 'moth': 1310, 'firelights': 1311, 'horses': 1312, 'rode': 1313, 'taking': 1314, 'hades': 1315, 'twilight': 1316, 'forty': 1317, 'slime': 1318, 'climate': 1319, 'bravery': 1320, 'ended': 1321, 'bond': 1322, 'rebel': 1323, 'iii': 1324, 'violin': 1325, 'clay': 1326, 'sooner': 1327, 'sport': 1328, 'colour': 1329, 'knows': 1330, 'earth': 1331, 'serve': 1332, 'clyde': 1333, 'mourn': 1334, 'weep': 1335, 'suffer': 1336, 'diamonds': 1337, 'queen': 1338, 'hung': 1339, 'tied': 1340, 'apprenticed': 1341, 'happiness': 1342, 'misfortune': 1343, 'follow': 1344, 'strolling': 1345, 'selling': 1346, 'bar': 1347, 'customer': 1348, 'slipped': 1349, 'luck': 1350, 'jury': 1351, 'trial': 1352, 'case': 1353, 'warning': 1354, 'liquor': 1355, 'porter': 1356, 'pleasures': 1357, 'fishing': 1358, 'farming': 1359, 'glens': 1360, 'softest': 1361, 'dripping': 1362, 'snare': 1363, 'lose': 1364, 'court': 1365, 'primrose': 1366, 'bee': 1367, 'hopeless': 1368, 'wonders': 1369, 'admiration': 1370, 'haunt': 1371, 'wherever': 1372, 'sands': 1373, 'purer': 1374, 'within': 1375, 'grieve': 1376, 'drumslieve': 1377, 'ballygrant': 1378, 'deepest': 1379, 'boatsman': 1380, 'ferry': 1381, 'childhood': 1382, 'reflections': 1383, 'boyhood': 1384, 'melting': 1385, 'roaming': 1386, 'reported': 1387, 'marble': 1388, 'stones': 1389, 'ink': 1390, 'support': 1391, 'drunk': 1392, 'seldom': 1393, 'sick': 1394, 'numbered': 1395, 'foam': 1396, 'compare': 1397, 'sights': 1398, 'coast': 1399, 'clare': 1400, 'kilkee': 1401, 'kilrush': 1402, 'watching': 1403, 'pheasants': 1404, 'homes': 1405, 'streams': 1406, 'dublins': 1407, 'cockles': 1408, 'mussels': 1409, 'fish': 1410, 'monger': 1411, 'ghost': 1412, 'wheels': 1413, 'eden': 1414, 'vanished': 1415, 'finea': 1416, 'halfway': 1417, 'cootehill': 1418, 'gruff': 1419, 'whispering': 1420, 'crow': 1421, 'newborn': 1422, 'babies': 1423, 'huff': 1424, 'start': 1425, 'sorrowful': 1426, 'squall': 1427, 'babys': 1428, 'toil': 1429, 'worn': 1430, 'fore': 1431, 'flute': 1432, 'yer': 1433, 'boot': 1434, 'magee': 1435, 'scruff': 1436, 'slanderin': 1437, 'marchin': 1438, 'assisted': 1439, 'drain': 1440, 'dudeen': 1441, 'puff': 1442, 'whisperings': 1443, 'barrin': 1444, 'chocolate': 1445, 'feegee': 1446, 'sort': 1447, 'moonshiny': 1448, 'stuff': 1449, 'addle': 1450, 'brain': 1451, 'ringin': 1452, 'glamour': 1453, 'gas': 1454, 'guff': 1455, 'whisper': 1456, 'oil': 1457, 'remarkable': 1458, 'policeman': 1459, 'bluff': 1460, 'maintain': 1461, 'guril': 1462, 'sic': 1463, 'passage': 1464, 'rough': 1465, 'borne': 1466, 'breeze': 1467, 'boundless': 1468, 'stupendous': 1469, 'roll': 1470, 'thundering': 1471, 'motion': 1472, 'mermaids': 1473, 'fierce': 1474, 'tempest': 1475, 'gathers': 1476, 'oneill': 1477, 'odonnell': 1478, 'lucan': 1479, 'oconnell': 1480, 'brian': 1481, 'drove': 1482, 'danes': 1483, 'patrick': 1484, 'vermin': 1485, 'whose': 1486, 'benburb': 1487, 'blackwater': 1488, 'owen': 1489, 'roe': 1490, 'munroe': 1491, 'lambs': 1492, 'skip': 1493, 'views': 1494, 'enchanting': 1495, 'rostrevor': 1496, 'groves': 1497, 'lakes': 1498, 'ride': 1499, 'tide': 1500, 'majestic': 1501, 'shannon': 1502, 'sail': 1503, 'loch': 1504, 'neagh': 1505, 'ross': 1506, 'gorey': 1507, 'saxon': 1508, 'tory': 1509, 'soil': 1510, 'sanctified': 1511, 'enemies': 1512, 'links': 1513, 'encumbered': 1514, 'resound': 1515, 'hosannahs': 1516, 'bide': 1517, 'hushed': 1518, 'lying': 1519, 'kneel': 1520, 'ave': 1521, 'tread': 1522, 'fail': 1523, 'simply': 1524, 'gasworks': 1525, 'croft': 1526, 'dreamed': 1527, 'canal': 1528, 'factory': 1529, 'clouds': 1530, 'drifting': 1531, 'prowling': 1532, 'beat': 1533, 'springs': 1534, 'siren': 1535, 'docks': 1536, 'train': 1537, 'smelled': 1538, 'smokey': 1539, 'sharp': 1540, 'axe': 1541, 'steel': 1542, 'tempered': 1543, 'chop': 1544, 't': 1545, 'agree': 1546, 'leaning': 1547, 'weirs': 1548, 'ray': 1549, 'glow': 1550, 'changeless': 1551, 'constant': 1552, 'bounding': 1553, 'castles': 1554, 'sacked': 1555, 'scattered': 1556, 'fixed': 1557, 'endearing': 1558, 'gifts': 1559, 'fading': 1560, 'wouldst': 1561, 'adored': 1562, 'loveliness': 1563, 'ruin': 1564, 'itself': 1565, 'verdantly': 1566, 'unprofaned': 1567, 'fervor': 1568, 'faith': 1569, 'forgets': 1570, 'sunflower': 1571, 'rag': 1572, 'games': 1573, 'hold': 1574, 'defend': 1575, 'veteran': 1576, 'volunteers': 1577, 'pat': 1578, 'pearse': 1579, 'clark': 1580, 'macdonagh': 1581, 'macdiarmada': 1582, 'mcbryde': 1583, 'james': 1584, 'connolly': 1585, 'placed': 1586, 'machine': 1587, 'ranting': 1588, 'hour': 1589, 'bullet': 1590, 'stuck': 1591, 'craw': 1592, 'poisoning': 1593, 'ceannt': 1594, 'lions': 1595, 'union': 1596, 'poured': 1597, 'dismay': 1598, 'horror': 1599, 'englishmen': 1600, 'khaki': 1601, 'renown': 1602, 'fame': 1603, 'forefathers': 1604, 'blaze': 1605, 'priests': 1606, 'offer': 1607, 'charmin': 1608, 'variety': 1609, 'renownd': 1610, 'learnin': 1611, 'piety': 1612, 'advance': 1613, 'widout': 1614, 'impropriety': 1615, 'flowr': 1616, 'cho': 1617, 'powrfulest': 1618, 'preacher': 1619, 'tenderest': 1620, 'teacher': 1621, 'kindliest': 1622, 'donegal': 1623, 'talk': 1624, 'provost': 1625, 'trinity': 1626, 'famous': 1627, 'greek': 1628, 'latinity': 1629, 'divils': 1630, 'divinity': 1631, 'd': 1632, 'likes': 1633, 'logic': 1634, 'mythology': 1635, 'thayology': 1636, 'conchology': 1637, 'sinners': 1638, 'wishful': 1639, 'childer': 1640, 'avick': 1641, 'gad': 1642, 'flock': 1643, 'grandest': 1644, 'control': 1645, 'checking': 1646, 'coaxin': 1647, 'onaisy': 1648, 'lifting': 1649, 'avoidin': 1650, 'frivolity': 1651, 'seasons': 1652, 'innocent': 1653, 'jollity': 1654, 'playboy': 1655, 'claim': 1656, 'equality': 1657, 'comicality': 1658, 'bishop': 1659, 'lave': 1660, 'gaiety': 1661, 'laity': 1662, 'clergy': 1663, 'jewels': 1664, 'plundering': 1665, 'pillage': 1666, 'starved': 1667, 'cries': 1668, 'thems': 1669, 'bondage': 1670, 'fourth': 1671, 'tabhair': 1672, 'dom': 1673, 'lámh': 1674, 'harmony': 1675, 'east': 1676, 'destroy': 1677, 'command': 1678, 'gesture': 1679, 'troubles': 1680, 'weak': 1681, 'peoples': 1682, 'creeds': 1683, 'lets': 1684, 'needs': 1685, 'passion': 1686, 'fashion': 1687, 'guide': 1688, 'share': 1689, 'sparkling': 1690, 'meeting': 1691, 'iull': 1692, 'contented': 1693, 'ache': 1694, 'painful': 1695, 'wrote': 1696, 'twisted': 1697, 'twined': 1698, 'cheek': 1699, 'bedim': 1700, 'holds': 1701, 'smiles': 1702, 'scarcely': 1703, 'darkning': 1704, 'beyond': 1705, 'yearn': 1706, 'laughs': 1707, 'humble': 1708, 'brightest': 1709, 'gleam': 1710, 'forgot': 1711, 'pulled': 1712, 'comb': 1713, 'counting': 1714, 'knock': 1715, 'murray': 1716, 'fellow': 1717, 'hail': 1718, 'tumblin': 1719, 'apple': 1720, 'pie': 1721, 'gets': 1722, 'doleful': 1723, 'enemy': 1724, 'nearly': 1725, 'slew': 1726, 'queer': 1727, 'mild': 1728, 'legs': 1729, 'indeed': 1730, 'island': 1731, 'sulloon': 1732, 'flesh': 1733, 'yere': 1734, 'armless': 1735, 'boneless': 1736, 'chickenless': 1737, 'egg': 1738, 'yell': 1739, 'bowl': 1740, 'rolling': 1741, 'swearing': 1742, 'rattled': 1743, 'saber': 1744, 'deceiver': 1745, 'rig': 1746, 'um': 1747, 'du': 1748, 'rum': 1749, 'jar': 1750, 'shinin': 1751, 'coins': 1752, 'promised': 1753, 'vowed': 1754, 'devils': 1755, 'awakened': 1756, 'six': 1757, 'guards': 1758, 'numbers': 1759, 'odd': 1760, 'flew': 1761, 'mistaken': 1762, 'mollys': 1763, 'robbing': 1764, 'sentry': 1765, 'sligo': 1766, 'fishin': 1767, 'bowlin': 1768, 'others': 1769, 'railroad': 1770, 'ties': 1771, 'crossings': 1772, 'swamps': 1773, 'elevations': 1774, 'resolved': 1775, 'sunset': 1776, 'higher': 1777, 'win': 1778, 'allegators': 1779, 'wood': 1780, 'treated': 1781, 'shoulders': 1782, 'paint': 1783, 'picture': 1784, 'vain': 1785, 'returned': 1786, 'cottage': 1787, 'sociable': 1788, 'foaming': 1789, 'n': 1790, 'jeremy': 1791, 'lanigan': 1792, 'battered': 1793, 'hadnt': 1794, 'pound': 1795, 'farm': 1796, 'acres': 1797, 'party': 1798, 'listen': 1799, 'glisten': 1800, 'rows': 1801, 'ructions': 1802, 'invitation': 1803, 'minute': 1804, 'bees': 1805, 'cask': 1806, 'judy': 1807, 'odaly': 1808, 'milliner': 1809, 'wink': 1810, 'peggy': 1811, 'mcgilligan': 1812, 'lashings': 1813, 'punch': 1814, 'cakes': 1815, 'bacon': 1816, 'tea': 1817, 'nolans': 1818, 'dolans': 1819, 'ogradys': 1820, 'sounded': 1821, 'taras': 1822, 'hall': 1823, 'nelly': 1824, 'gray': 1825, 'rat': 1826, 'catchers': 1827, 'doing': 1828, 'kinds': 1829, 'nonsensical': 1830, 'polkas': 1831, 'whirligig': 1832, 'julia': 1833, 'banished': 1834, 'nonsense': 1835, 'twist': 1836, 'jig': 1837, 'mavrone': 1838, 'mad': 1839, 'ceiling': 1840, 'brooks': 1841, 'academy': 1842, 'learning': 1843, 'learn': 1844, 'couples': 1845, 'groups': 1846, 'accident': 1847, 'happened': 1848, 'terrance': 1849, 'mccarthy': 1850, 'finnertys': 1851, 'hoops': 1852, 'cried': 1853, 'meelia': 1854, 'murther': 1855, 'gathered': 1856, 'carmody': 1857, 'further': 1858, 'satisfaction': 1859, 'midst': 1860, 'kerrigan': 1861, 'declared': 1862, 'painted': 1863, 'suppose': 1864, 'morgan': 1865, 'powerful': 1866, 'stretched': 1867, 'smashed': 1868, 'chaneys': 1869, 'runctions': 1870, 'lick': 1871, 'phelim': 1872, 'mchugh': 1873, 'replied': 1874, 'introduction': 1875, 'kicked': 1876, 'terrible': 1877, 'hullabaloo': 1878, 'piper': 1879, 'strangled': 1880, 'squeezed': 1881, 'bellows': 1882, 'chanters': 1883, 'entangled': 1884, 'gaily': 1885, 'mairis': 1886, 'hillways': 1887, 'myrtle': 1888, 'bracken': 1889, 'sheilings': 1890, 'sake': 1891, 'rowans': 1892, 'herring': 1893, 'meal': 1894, 'peat': 1895, 'creel': 1896, 'bairns': 1897, 'weel': 1898, 'toast': 1899, 'soar': 1900, 'blackbird': 1901, 'note': 1902, 'linnet': 1903, 'lure': 1904, 'cozy': 1905, 'catch': 1906, 'company': 1907, 'harm': 1908, 'wit': 1909, 'recall': 1910, 'leisure': 1911, 'awhile': 1912, 'sorely': 1913, 'ruby': 1914, 'enthralled': 1915, 'sorry': 1916, 'theyd': 1917, 'falls': 1918, 'lot': 1919, 'tuned': 1920, 'bough': 1921, 'cow': 1922, 'chanting': 1923, 'melodious': 1924, 'scarce': 1925, 'soothed': 1926, 'solace': 1927, 'courtesy': 1928, 'salute': 1929, 'amiable': 1930, 'captive': 1931, 'slave': 1932, 'future': 1933, 'banter': 1934, 'enamour': 1935, 'indies': 1936, 'afford': 1937, 'transparently': 1938, 'flame': 1939, 'add': 1940, 'fuel': 1941, 'grant': 1942, 'desire': 1943, 'expire': 1944, 'wealth': 1945, 'damer': 1946, 'african': 1947, 'devonshire': 1948, 'lamp': 1949, 'alladin': 1950, 'genie': 1951, 'also': 1952, 'withdraw': 1953, 'tease': 1954, 'single': 1955, 'airy': 1956, 'embarrass': 1957, 'besides': 1958, 'almanack': 1959, 'useless': 1960, 'date': 1961, 'ware': 1962, 'rate': 1963, 'fragrance': 1964, 'loses': 1965, 'consumed': 1966, 'october': 1967, 'knowing': 1968, 'steer': 1969, 'blast': 1970, 'danger': 1971, 'farthing': 1972, 'affection': 1973, 'enjoy': 1974, 'choose': 1975, 'killarneys': 1976, 'sister': 1977, 'pains': 1978, 'loss': 1979, 'tuam': 1980, 'saluted': 1981, 'drank': 1982, 'pint': 1983, 'smother': 1984, 'reap': 1985, 'cut': 1986, 'goblins': 1987, 'bought': 1988, 'brogues': 1989, 'rattling': 1990, 'bogs': 1991, 'frightning': 1992, 'dogs': 1993, 'hunt': 1994, 'hare': 1995, 'follol': 1996, 'rah': 1997, 'mullingar': 1998, 'rested': 1999, 'limbs': 2000, 'blithe': 2001, 'heartfrom': 2002, 'paddys': 2003, 'cure': 2004, 'lassies': 2005, 'laughing': 2006, 'curious': 2007, 'style': 2008, 'twould': 2009, 'bubblin': 2010, 'hired': 2011, 'wages': 2012, 'required': 2013, 'almost': 2014, 'deprived': 2015, 'stroll': 2016, 'quality': 2017, 'locality': 2018, 'something': 2019, 'wobblin': 2020, 'enquiring': 2021, 'rogue': 2022, 'brogue': 2023, 'wasnt': 2024, 'vogue': 2025, 'spirits': 2026, 'falling': 2027, 'jumped': 2028, 'aboard': 2029, 'pigs': 2030, 'rigs': 2031, 'jigs': 2032, 'bubbling': 2033, 'holyhead': 2034, 'wished': 2035, 'instead': 2036, 'bouys': 2037, 'liverpool': 2038, 'safely': 2039, 'fool': 2040, 'boil': 2041, 'temper': 2042, 'losing': 2043, 'abusing': 2044, 'shillelagh': 2045, 'nigh': 2046, 'hobble': 2047, 'load': 2048, 'hurray': 2049, 'joined': 2050, 'affray': 2051, 'quitely': 2052, 'cleared': 2053, 'host': 2054, 'march': 2055, 'faces': 2056, 'farmstead': 2057, 'fishers': 2058, 'ban': 2059, 'vengeance': 2060, 'hapless': 2061, 'about': 2062, 'hemp': 2063, 'rope': 2064, 'clung': 2065, 'grim': 2066, 'array': 2067, 'earnest': 2068, 'stalwart': 2069, 'stainless': 2070, 'banner': 2071, 'marching': 2072, 'torn': 2073, 'furious': 2074, 'odds': 2075, 'keen': 2076, 'toomebridge': 2077, 'treads': 2078, 'upwards': 2079, 'traveled': 2080, 'quarters': 2081, 'below': 2082, 'hogshead': 2083, 'stack': 2084, 'stagger': 2085, 'dig': 2086, 'hole': 2087, 'couple': 2088, 'scratch': 2089, 'consolation': 2090, 'tyrant': 2091, 'remorseless': 2092, 'foe': 2093, 'lift': 2094, 'stranded': 2095, 'prince': 2096, 'edward': 2097, 'coffee': 2098, 'trace': 2099, 'fiddlin': 2100, 'dime': 2101, 'shy': 2102, 'hello': 2103, 'wintry': 2104, 'yellow': 2105, 'somewhere': 2106, 'written': 2107, 'begin': 2108, 'tap': 2109, 'caught': 2110, 'leap': 2111, 'clumsy': 2112, 'graceful': 2113, 'fiddlers': 2114, 'everywhere': 2115, 'boots': 2116, 'laughtcr': 2117, 'suits': 2118, 'easter': 2119, 'gowns': 2120, 'sailors': 2121, 'pianos': 2122, 'setting': 2123, 'someones': 2124, 'hats': 2125, 'rack': 2126, 'chair': 2127, 'wooden': 2128, 'feels': 2129, 'touch': 2130, 'awaitin': 2131, 'thc': 2132, 'fiddles': 2133, 'closet': 2134, 'strings': 2135, 'tbe': 2136, 'covers': 2137, 'buttoned': 2138, 'sometimes': 2139, 'melody': 2140, 'passes': 2141, 'slight': 2142, 'lack': 2143, 'moved': 2144, 'homeward': 2145, 'swan': 2146, 'moves': 2147, 'goods': 2148, 'gear': 2149, 'din': 2150, 'rude': 2151, 'wherein': 2152, 'dwell': 2153, 'abandon': 2154, 'energy': 2155, 'blight': 2156, 'praties': 2157, 'sheep': 2158, 'cattle': 2159, 'taxes': 2160, 'unpaid': 2161, 'redeem': 2162, 'bleak': 2163, 'landlord': 2164, 'sheriff': 2165, 'spleen': 2166, 'heaved': 2167, 'sigh': 2168, 'bade': 2169, 'goodbye': 2170, 'stony': 2171, 'anguish': 2172, 'seeing': 2173, 'feeble': 2174, 'frame': 2175, 'wrapped': 2176, 'c�ta': 2177, 'm�r': 2178, 'unseen': 2179, 'stern': 2180, 'rally': 2181, 'cheer': 2182, 'revenge': 2183, 'waking': 2184, 'wisdom': 2185, 'dwelling': 2186, 'battleshield': 2187, 'dignity': 2188, 'shelter': 2189, 'heed': 2190, 'inheritance': 2191, 'heavem': 2192, 'heaven': 2193, 'victory': 2194, 'reach': 2195, 'whatever': 2196, 'befall': 2197, 'ruler': 2198, 'pleasant': 2199, 'rambling': 2200, 'board': 2201, 'followed': 2202, 'shortly': 2203, 'anchor': 2204, '23rd': 2205, 'lrelands': 2206, 'daughters': 2207, 'crowds': 2208, 'assembled': 2209, 'fulfill': 2210, 'jovial': 2211, 'conversations': 2212, 'neighbors': 2213, 'turning': 2214, 'tailor': 2215, 'quigley': 2216, 'bould': 2217, 'britches': 2218, 'lived': 2219, 'flying': 2220, 'dove': 2221, 'hiii': 2222, 'dreamt': 2223, 'joking': 2224, 'manys': 2225, 'cock': 2226, 'shrill': 2227, 'awoke': 2228, 'california': 2229, 'miles': 2230, 'banbridge': 2231, 'july': 2232, 'boreen': 2233, 'sheen': 2234, 'coaxing': 2235, 'elf': 2236, 'shake': 2237, 'bantry': 2238, 'onward': 2239, 'sped': 2240, 'gazed': 2241, 'passerby': 2242, 'gem': 2243, 'irelands': 2244, 'travelled': 2245, 'hit': 2246, 'career': 2247, 'square': 2248, 'surrendered': 2249, 'tenant': 2250, 'shawl': 2251, 'gown': 2252, 'crossroads': 2253, 'dress': 2254, 'try': 2255, 'sheeps': 2256, 'deludhering': 2257, 'yoke': 2258, 'rust': 2259, 'plow': 2260, 'fireside': 2261, 'sits': 2262, 'whistle': 2263, 'changing': 2264, 'fright': 2265, 'downfall': 2266, 'cornwall': 2267, 'parlour': 2268, 'passing': 2269, 'william': 2270, 'betray': 2271, 'guinea': 2272, 'walking': 2273, 'mounted': 2274, 'platform': 2275, 'deny': 2276, 'walked': 2277, 'margin': 2278, 'lough': 2279, 'leane': 2280, 'bloomed': 2281, 'whom': 2282, 'cap': 2283, 'cloak': 2284, 'glossy': 2285, 'pail': 2286, 'palm': 2287, 'venus': 2288, 'bank': 2289, 'travelians': 2290, 'babes': 2291, 'freebirds': 2292, 'grew': 2293, 'matters': 2294, 'famine': 2295, 'rebelled': 2296, 'windswept': 2297, 'harbour': 2298, 'botany': 2299, 'whilst': 2300, 'wan': 2301, 'cloud': 2302, 'shannons': 2303, 'returnd': 2304, 'doubts': 2305, 'fears': 2306, 'aching': 2307, 'seemd': 2308, 'mingling': 2309, 'flood': 2310, 'path': 2311, 'wrath': 2312, 'lamenting': 2313, 'sudden': 2314, 'kissd': 2315, 'showrs': 2316, 'flowing': 2317, 'laughd': 2318, 'beam': 2319, 'soared': 2320, 'aloft': 2321, 'phantom': 2322, 'outspread': 2323, 'throbbing': 2324, 'hid': 2325, 'treasures': 2326, 'pots': 2327, 'tin': 2328, 'cans': 2329, 'mash': 2330, 'bran': 2331, 'barney': 2332, 'peeled': 2333, 'searching': 2334, 'connemara': 2335, 'butcher': 2336, 'quart': 2337, 'bottle': 2338, 'help': 2339, 'gate': 2340, 'glory': 2341, 'lane': 2342, 'village': 2343, 'church': 2344, 'spire': 2345, 'graveyard': 2346, 'baby': 2347, 'blessing': 2348, 'hoping': 2349, 'trust': 2350, 'strength': 2351, 'thank': 2352, 'bidding': 2353, 'bread': 2354, 'shines': 2355, 'fifty': 2356, 'often': 2357, 'shut': 2358, 'frisky': 2359, 'pig': 2360, 'whisky': 2361, 'uncle': 2362, 'enlisted': 2363, 'trudged': 2364, 'bosom': 2365, 'daisy': 2366, 'drubbing': 2367, 'shirts': 2368, 'battle': 2369, 'blows': 2370, 'pate': 2371, 'bothered': 2372, 'rarely': 2373, 'dropped': 2374, 'honest': 2375, 'thinks': 2376, 'eight': 2377, 'score': 2378, 'basin': 2379, 'zoo': 2380, 'everybody': 2381, 'calls': 2382, 'trades': 2383, 'dinner': 2384, 'slip': 2385, 'corner': 2386, 'barn': 2387, 'currabawn': 2388, 'shocking': 2389, 'wet': 2390, 'raindrops': 2391, 'rats': 2392, 'peek': 2393, 'waken': 2394, 'spotted': 2395, 'apron': 2396, 'calico': 2397, 'blouse': 2398, 'frighten': 2399, 'afraid': 2400, 'flaxen': 2401, 'haired': 2402, 'rags': 2403, 'tags': 2404, 'leggins': 2405, 'collar': 2406, 'tie': 2407, 'goggles': 2408, 'fashioned': 2409, 'bag': 2410, 'bulging': 2411, 'sack': 2412, 'peeping': 2413, 'skin': 2414, 'rink': 2415, 'doodle': 2416, 'getting': 2417, 'raked': 2418, 'gladness': 2419, 'tuning': 2420, 'fills': 2421, 'eily': 2422, 'prouder': 2423, 'thady': 2424, 'boldly': 2425, 'lasses': 2426, 'fled': 2427, 'silent': 2428, 'glad': 2429, 'echo': 2430, 'companions': 2431, 'soars': 2432, 'enchanted': 2433, 'granted': 2434, 'adoration': 2435, 'gives': 2436, 'joyous': 2437, 'elation': 2438, 'covered': 2439, 'winter': 2440, 'riding': 2441, 'cherry': 2442, 'coal': 2443, 'falter': 2444, 'bowed': 2445, 'bonnet': 2446, 'courteous': 2447, 'looks': 2448, 'engaging': 2449, 'sell': 2450, 'purse': 2451, 'yearly': 2452, 'need': 2453, 'market': 2454, 'gain': 2455, 'dearly': 2456, 'tarry': 2457, 'although': 2458, 'parlay': 2459, 'ranks': 2460, 'girded': 2461, 'slung': 2462, 'warrior': 2463, 'bard': 2464, 'betrays': 2465, 'rights': 2466, 'faithful': 2467, 'chords': 2468, 'asunder': 2469, 'sully': 2470, 'bravry': 2471, 'londons': 2472, 'sight': 2473, 'workin': 2474, 'sow': 2475, 'wheat': 2476, 'gangs': 2477, 'sweep': 2478, 'expressed': 2479, 'london': 2480, 'top': 2481, 'dresses': 2482, 'bath': 2483, 'startin': 2484, 'fashions': 2485, 'mccree': 2486, 'nature': 2487, 'designed': 2488, 'complexions': 2489, 'cream': 2490, 'regard': 2491, 'sip': 2492, 'colors': 2493, 'wait': 2494, 'waitin': 2495, 'sweeps': 2496, 'beauing': 2497, 'belling': 2498, 'windows': 2499, 'cursing': 2500, 'faster': 2501, 'waiters': 2502, 'bailiffs': 2503, 'duns': 2504, 'bacchus': 2505, 'begotten': 2506, 'politicians': 2507, 'funds': 2508, 'dadda': 2509, 'living': 2510, 'drives': 2511, 'having': 2512, 'racking': 2513, 'tenants': 2514, 'stewards': 2515, 'teasing': 2516, 'raising': 2517, 'wishing': 2518, 'sunny': 2519, 'doves': 2520, 'coo': 2521, 'neath': 2522, 'sunbeam': 2523, 'robin': 2524, 'waters': 2525, 'larks': 2526, 'join': 2527, 'breaks': 2528, 'oftimes': 2529, 'lilies': 2530, 'declining': 2531, 'vale': 2532, 'shades': 2533, 'mantle': 2534, 'spreading': 2535, 'listening': 2536, 'shedding': 2537, 'beginning': 2538, 'spinning': 2539, 'blind': 2540, 'drowsily': 2541, 'knitting': 2542, 'cheerily': 2543, 'noiselessly': 2544, 'whirring': 2545, 'foots': 2546, 'stirring': 2547, 'sprightly': 2548, 'chara': 2549, 'tapping': 2550, 'ivy': 2551, 'flapping': 2552, 'somebody': 2553, 'sighing': 2554, 'autumn': 2555, 'noise': 2556, 'chirping': 2557, 'holly': 2558, 'shoving': 2559, 'wrong': 2560, 'coolin': 2561, 'casement': 2562, 'rove': 2563, 'moons': 2564, 'brightly': 2565, 'shakes': 2566, 'lays': 2567, 'longs': 2568, 'lingers': 2569, 'glance': 2570, 'puts': 2571, 'lazily': 2572, 'easily': 2573, 'lowly': 2574, 'reels': 2575, 'noiseless': 2576, 'leaps': 2577, 'ere': 2578, 'lovers': 2579, 'roved': 2580, 'verdant': 2581, 'braes': 2582, 'skreen': 2583, 'countrie': 2584, 'foreign': 2585, 'strand': 2586, 'dewy': 2587, 'climb': 2588, 'rob': 2589, 'boat': 2590, 'sails': 2591, 'loaded': 2592, 'sink': 2593, 'leaned': 2594, 'oak': 2595, 'trusty': 2596, 'false': 2597, 'reached': 2598, 'pricked': 2599, 'waxes': 2600, 'fades': 2601, 'wholl': 2602, 'cockle': 2603, 'gloom': 2604, 'news': 2605, 'forbid': 2606, 'patricks': 2607, 'napper': 2608, 'tandy': 2609, 'hows': 2610, 'distressful': 2611, 'englands': 2612, 'remind': 2613, 'pull': 2614, 'throw': 2615, 'sod': 2616, 'root': 2617, 'underfoot': 2618, 'laws': 2619, 'blades': 2620, 'growin': 2621, 'dare': 2622, 'show': 2623, 'caubeen': 2624, 'year': 2625, 'returning': 2626, 'store': 2627, 'ale': 2628, 'frequent': 2629, 'landlady': 2630, 'credit': 2631, 'custom': 2632, 'sovereigns': 2633, 'landladys': 2634, 'wines': 2635, 'confess': 2636, 'pardon': 2637, 'prodigal': 2638, 'caress': 2639, 'forgive': 2640, 'ofttimes': 2641, 'wondering': 2642, 'powr': 2643, 'beguile': 2644, 'teardrop': 2645, 'lilting': 2646, 'laughters': 2647, 'twinkle': 2648, 'lilt': 2649, 'seems': 2650, 'linnets': 2651, 'real': 2652, 'regret': 2653, 'throughout': 2654, 'youths': 2655, 'chance': 2656, 'spied': 2657, 'receiver': 2658, 'counted': 2659, 'penny': 2660, 'bu': 2661, 'rungum': 2662, 'chamber': 2663, 'course': 2664, 'charges': 2665, 'filled': 2666, 'ready': 2667, 'footmen': 2668, 'likewise': 2669, 'draw': 2670, 'pistol': 2671, 'couldnt': 2672, 'shoot': 2673, 'robbin': 2674, 'jailer': 2675, 'tight': 2676, 'fisted': 2677, 'army': 2678, 'stationed': 2679, 'cork': 2680, 'roamin': 2681, 'swear': 2682, 'treat': 2683, 'sportin': 2684, 'hurley': 2685, 'bollin': 2686, 'maids': 2687, 'summertime': 2688, 'pluck': 2689, 'yon': 2690}\n"
          ],
          "name": "stdout"
        }
      ]
    },
    {
      "cell_type": "code",
      "metadata": {
        "id": "M-zJYo7V8QD9",
        "outputId": "09b09a8e-d8d4-465f-e933-860aa6a5e987",
        "colab": {
          "base_uri": "https://localhost:8080/"
        }
      },
      "source": [
        "input_sequences = []\n",
        "maxlen = max([len(s) for s in dataset])\n",
        "\n",
        "for sentence in dataset:\n",
        "  sequence = tokenizer.texts_to_sequences([sentence])[0]\n",
        "  for n in range(2,len(sequence)+1):\n",
        "    input_sequences.append(sequence[:n])\n",
        "\n",
        "padded = pad_sequences(input_sequences, padding='pre', maxlen=maxlen)\n",
        "\n",
        "\n",
        "X_data, y_data = padded[:, :-1], padded[:, -1]\n",
        "print(X_data[0], y_data[0])\n",
        "\n",
        "# test_ratio = 0.1\n",
        "# train_size = int(len(X_data)*(1-test_ratio))\n",
        "\n",
        "# X_train = X_data[:train_size]\n",
        "# X_test = X_data[train_size:]\n",
        "\n",
        "# y_train = y_data[:train_size]\n",
        "# y_test = y_data[train_size:]\n"
      ],
      "execution_count": 4,
      "outputs": [
        {
          "output_type": "stream",
          "text": [
            "[ 0  0  0  0  0  0  0  0  0  0  0  0  0  0  0  0  0  0  0  0  0  0  0  0\n",
            "  0  0  0  0  0  0  0  0  0  0  0  0  0  0  0  0  0  0  0  0  0  0  0  0\n",
            "  0  0  0  0  0  0  0  0  0  0  0  0  0  0  0  0  0  0  0  0  0  0  0  0\n",
            "  0  0  0  0  0  0 52] 13\n"
          ],
          "name": "stdout"
        }
      ]
    },
    {
      "cell_type": "code",
      "metadata": {
        "id": "UHgoworzBlFS"
      },
      "source": [
        "VOCAB_SIZE = len(tokenizer.word_index) + 1\n",
        "EMBEDDING_DIMS = 64\n",
        "\n",
        "class MyModel(tf.keras.Model):\n",
        "  def __init__(self):\n",
        "    super(MyModel, self).__init__()\n",
        "    self.embedding = Embedding(VOCAB_SIZE, EMBEDDING_DIMS)\n",
        "    self.lstm = Bidirectional(LSTM(128))\n",
        "    self.do = Dropout(0.2)\n",
        "    self.fc1 = Dense(256, activation='relu')\n",
        "    self.fc2 = Dense(VOCAB_SIZE, activation='softmax')\n",
        "  \n",
        "  def call(self, x):\n",
        "    x = self.embedding(x)\n",
        "    x = self.lstm(x)\n",
        "    x = self.do(x)\n",
        "    x = self.fc1(x)\n",
        "    x = self.fc2(x)\n",
        "    return x\n",
        "  \n",
        "  def model(self):\n",
        "    x = Input([None])\n",
        "    return tf.keras.Model(inputs=[x], outputs=self.call(x))"
      ],
      "execution_count": 5,
      "outputs": []
    },
    {
      "cell_type": "code",
      "metadata": {
        "id": "eaM1yWnUFd7X",
        "outputId": "9c58f0d7-a003-40ba-adb6-e1398117faae",
        "colab": {
          "base_uri": "https://localhost:8080/"
        }
      },
      "source": [
        "model = MyModel()\n",
        "model.compile(loss='sparse_categorical_crossentropy', optimizer='adam', metrics=['accuracy'])\n",
        "model.model().summary()"
      ],
      "execution_count": 6,
      "outputs": [
        {
          "output_type": "stream",
          "text": [
            "Model: \"functional_1\"\n",
            "_________________________________________________________________\n",
            "Layer (type)                 Output Shape              Param #   \n",
            "=================================================================\n",
            "input_1 (InputLayer)         [(None, None)]            0         \n",
            "_________________________________________________________________\n",
            "embedding (Embedding)        (None, None, 64)          172224    \n",
            "_________________________________________________________________\n",
            "bidirectional (Bidirectional (None, 256)               197632    \n",
            "_________________________________________________________________\n",
            "dropout (Dropout)            (None, 256)               0         \n",
            "_________________________________________________________________\n",
            "dense (Dense)                (None, 256)               65792     \n",
            "_________________________________________________________________\n",
            "dense_1 (Dense)              (None, 2691)              691587    \n",
            "=================================================================\n",
            "Total params: 1,127,235\n",
            "Trainable params: 1,127,235\n",
            "Non-trainable params: 0\n",
            "_________________________________________________________________\n"
          ],
          "name": "stdout"
        }
      ]
    },
    {
      "cell_type": "code",
      "metadata": {
        "id": "BVIk2UTJF7CC",
        "outputId": "16b646db-bf63-4ece-b3e7-2795c7c210ba",
        "colab": {
          "base_uri": "https://localhost:8080/"
        }
      },
      "source": [
        "epochs = 100\n",
        "history = model.fit(X_data, y_data, epochs=epochs)"
      ],
      "execution_count": 7,
      "outputs": [
        {
          "output_type": "stream",
          "text": [
            "Epoch 1/100\n",
            "377/377 [==============================] - 5s 13ms/step - loss: 6.6745 - accuracy: 0.0634\n",
            "Epoch 2/100\n",
            "377/377 [==============================] - 5s 13ms/step - loss: 6.2724 - accuracy: 0.0709\n",
            "Epoch 3/100\n",
            "377/377 [==============================] - 5s 13ms/step - loss: 6.0350 - accuracy: 0.0783\n",
            "Epoch 4/100\n",
            "377/377 [==============================] - 5s 13ms/step - loss: 5.8673 - accuracy: 0.0816\n",
            "Epoch 5/100\n",
            "377/377 [==============================] - 5s 12ms/step - loss: 5.6812 - accuracy: 0.0917\n",
            "Epoch 6/100\n",
            "377/377 [==============================] - 5s 13ms/step - loss: 5.4987 - accuracy: 0.1010\n",
            "Epoch 7/100\n",
            "377/377 [==============================] - 5s 13ms/step - loss: 5.3096 - accuracy: 0.1074\n",
            "Epoch 8/100\n",
            "377/377 [==============================] - 5s 13ms/step - loss: 5.1281 - accuracy: 0.1174\n",
            "Epoch 9/100\n",
            "377/377 [==============================] - 5s 13ms/step - loss: 4.9557 - accuracy: 0.1281\n",
            "Epoch 10/100\n",
            "377/377 [==============================] - 5s 12ms/step - loss: 4.7824 - accuracy: 0.1377\n",
            "Epoch 11/100\n",
            "377/377 [==============================] - 5s 13ms/step - loss: 4.6144 - accuracy: 0.1478\n",
            "Epoch 12/100\n",
            "377/377 [==============================] - 5s 12ms/step - loss: 4.4228 - accuracy: 0.1640\n",
            "Epoch 13/100\n",
            "377/377 [==============================] - 5s 12ms/step - loss: 4.2440 - accuracy: 0.1746\n",
            "Epoch 14/100\n",
            "377/377 [==============================] - 5s 13ms/step - loss: 4.0610 - accuracy: 0.1888\n",
            "Epoch 15/100\n",
            "377/377 [==============================] - 5s 13ms/step - loss: 3.8647 - accuracy: 0.2063\n",
            "Epoch 16/100\n",
            "377/377 [==============================] - 5s 13ms/step - loss: 3.6721 - accuracy: 0.2269\n",
            "Epoch 17/100\n",
            "377/377 [==============================] - 5s 12ms/step - loss: 3.4738 - accuracy: 0.2522\n",
            "Epoch 18/100\n",
            "377/377 [==============================] - 5s 12ms/step - loss: 3.3119 - accuracy: 0.2721\n",
            "Epoch 19/100\n",
            "377/377 [==============================] - 5s 12ms/step - loss: 3.1254 - accuracy: 0.3005\n",
            "Epoch 20/100\n",
            "377/377 [==============================] - 5s 12ms/step - loss: 2.9525 - accuracy: 0.3328\n",
            "Epoch 21/100\n",
            "377/377 [==============================] - 5s 13ms/step - loss: 2.7896 - accuracy: 0.3621\n",
            "Epoch 22/100\n",
            "377/377 [==============================] - 5s 12ms/step - loss: 2.6423 - accuracy: 0.3809\n",
            "Epoch 23/100\n",
            "377/377 [==============================] - 5s 13ms/step - loss: 2.4876 - accuracy: 0.4074\n",
            "Epoch 24/100\n",
            "377/377 [==============================] - 5s 14ms/step - loss: 2.3575 - accuracy: 0.4369\n",
            "Epoch 25/100\n",
            "377/377 [==============================] - 5s 13ms/step - loss: 2.2243 - accuracy: 0.4669\n",
            "Epoch 26/100\n",
            "377/377 [==============================] - 5s 13ms/step - loss: 2.1095 - accuracy: 0.4850\n",
            "Epoch 27/100\n",
            "377/377 [==============================] - 5s 12ms/step - loss: 2.0090 - accuracy: 0.5124\n",
            "Epoch 28/100\n",
            "377/377 [==============================] - 5s 12ms/step - loss: 1.9137 - accuracy: 0.5307\n",
            "Epoch 29/100\n",
            "377/377 [==============================] - 5s 12ms/step - loss: 1.8316 - accuracy: 0.5474\n",
            "Epoch 30/100\n",
            "377/377 [==============================] - 5s 13ms/step - loss: 1.7419 - accuracy: 0.5684\n",
            "Epoch 31/100\n",
            "377/377 [==============================] - 5s 12ms/step - loss: 1.6537 - accuracy: 0.5902\n",
            "Epoch 32/100\n",
            "377/377 [==============================] - 5s 13ms/step - loss: 1.5954 - accuracy: 0.5979\n",
            "Epoch 33/100\n",
            "377/377 [==============================] - 5s 13ms/step - loss: 1.5147 - accuracy: 0.6153\n",
            "Epoch 34/100\n",
            "377/377 [==============================] - 5s 14ms/step - loss: 1.4606 - accuracy: 0.6309\n",
            "Epoch 35/100\n",
            "377/377 [==============================] - 5s 13ms/step - loss: 1.3941 - accuracy: 0.6446\n",
            "Epoch 36/100\n",
            "377/377 [==============================] - 5s 13ms/step - loss: 1.3474 - accuracy: 0.6550\n",
            "Epoch 37/100\n",
            "377/377 [==============================] - 5s 13ms/step - loss: 1.2922 - accuracy: 0.6696\n",
            "Epoch 38/100\n",
            "377/377 [==============================] - 5s 12ms/step - loss: 1.2550 - accuracy: 0.6758\n",
            "Epoch 39/100\n",
            "377/377 [==============================] - 5s 13ms/step - loss: 1.2167 - accuracy: 0.6908\n",
            "Epoch 40/100\n",
            "377/377 [==============================] - 5s 13ms/step - loss: 1.1779 - accuracy: 0.6944\n",
            "Epoch 41/100\n",
            "377/377 [==============================] - 5s 12ms/step - loss: 1.1314 - accuracy: 0.7062\n",
            "Epoch 42/100\n",
            "377/377 [==============================] - 5s 12ms/step - loss: 1.0973 - accuracy: 0.7143\n",
            "Epoch 43/100\n",
            "377/377 [==============================] - 5s 13ms/step - loss: 1.0706 - accuracy: 0.7232\n",
            "Epoch 44/100\n",
            "377/377 [==============================] - 5s 13ms/step - loss: 1.0454 - accuracy: 0.7279\n",
            "Epoch 45/100\n",
            "377/377 [==============================] - 5s 12ms/step - loss: 1.0145 - accuracy: 0.7315\n",
            "Epoch 46/100\n",
            "377/377 [==============================] - 5s 13ms/step - loss: 0.9936 - accuracy: 0.7389\n",
            "Epoch 47/100\n",
            "377/377 [==============================] - 5s 13ms/step - loss: 0.9763 - accuracy: 0.7412\n",
            "Epoch 48/100\n",
            "377/377 [==============================] - 5s 13ms/step - loss: 0.9514 - accuracy: 0.7487\n",
            "Epoch 49/100\n",
            "377/377 [==============================] - 5s 13ms/step - loss: 0.9150 - accuracy: 0.7601\n",
            "Epoch 50/100\n",
            "377/377 [==============================] - 5s 12ms/step - loss: 0.9091 - accuracy: 0.7606\n",
            "Epoch 51/100\n",
            "377/377 [==============================] - 5s 13ms/step - loss: 0.9051 - accuracy: 0.7581\n",
            "Epoch 52/100\n",
            "377/377 [==============================] - 5s 12ms/step - loss: 0.8752 - accuracy: 0.7697\n",
            "Epoch 53/100\n",
            "377/377 [==============================] - 5s 12ms/step - loss: 0.8570 - accuracy: 0.7721\n",
            "Epoch 54/100\n",
            "377/377 [==============================] - 5s 13ms/step - loss: 0.8439 - accuracy: 0.7759\n",
            "Epoch 55/100\n",
            "377/377 [==============================] - 5s 12ms/step - loss: 0.8228 - accuracy: 0.7784\n",
            "Epoch 56/100\n",
            "377/377 [==============================] - 5s 12ms/step - loss: 0.8147 - accuracy: 0.7804\n",
            "Epoch 57/100\n",
            "377/377 [==============================] - 5s 12ms/step - loss: 0.7973 - accuracy: 0.7845\n",
            "Epoch 58/100\n",
            "377/377 [==============================] - 5s 12ms/step - loss: 0.7849 - accuracy: 0.7868\n",
            "Epoch 59/100\n",
            "377/377 [==============================] - 5s 13ms/step - loss: 0.8018 - accuracy: 0.7825\n",
            "Epoch 60/100\n",
            "377/377 [==============================] - 5s 13ms/step - loss: 0.7745 - accuracy: 0.7892\n",
            "Epoch 61/100\n",
            "377/377 [==============================] - 5s 12ms/step - loss: 0.7629 - accuracy: 0.7938\n",
            "Epoch 62/100\n",
            "377/377 [==============================] - 5s 12ms/step - loss: 0.7586 - accuracy: 0.7962\n",
            "Epoch 63/100\n",
            "377/377 [==============================] - 5s 13ms/step - loss: 0.7545 - accuracy: 0.7932\n",
            "Epoch 64/100\n",
            "377/377 [==============================] - 5s 12ms/step - loss: 0.7347 - accuracy: 0.8003\n",
            "Epoch 65/100\n",
            "377/377 [==============================] - 5s 13ms/step - loss: 0.7351 - accuracy: 0.7972\n",
            "Epoch 66/100\n",
            "377/377 [==============================] - 5s 12ms/step - loss: 0.7303 - accuracy: 0.8018\n",
            "Epoch 67/100\n",
            "377/377 [==============================] - 5s 13ms/step - loss: 0.7151 - accuracy: 0.8042\n",
            "Epoch 68/100\n",
            "377/377 [==============================] - 5s 12ms/step - loss: 0.6956 - accuracy: 0.8093\n",
            "Epoch 69/100\n",
            "377/377 [==============================] - 5s 12ms/step - loss: 0.6969 - accuracy: 0.8098\n",
            "Epoch 70/100\n",
            "377/377 [==============================] - 5s 13ms/step - loss: 0.6928 - accuracy: 0.8094\n",
            "Epoch 71/100\n",
            "377/377 [==============================] - 5s 13ms/step - loss: 0.6829 - accuracy: 0.8127\n",
            "Epoch 72/100\n",
            "377/377 [==============================] - 5s 12ms/step - loss: 0.6922 - accuracy: 0.8095\n",
            "Epoch 73/100\n",
            "377/377 [==============================] - 4s 11ms/step - loss: 0.6874 - accuracy: 0.8130\n",
            "Epoch 74/100\n",
            "377/377 [==============================] - 4s 11ms/step - loss: 0.6761 - accuracy: 0.8113\n",
            "Epoch 75/100\n",
            "377/377 [==============================] - 4s 12ms/step - loss: 0.6973 - accuracy: 0.8097\n",
            "Epoch 76/100\n",
            "377/377 [==============================] - 4s 12ms/step - loss: 0.6679 - accuracy: 0.8159\n",
            "Epoch 77/100\n",
            "377/377 [==============================] - 4s 12ms/step - loss: 0.6653 - accuracy: 0.8128\n",
            "Epoch 78/100\n",
            "377/377 [==============================] - 5s 12ms/step - loss: 0.6491 - accuracy: 0.8191\n",
            "Epoch 79/100\n",
            "377/377 [==============================] - 4s 12ms/step - loss: 0.6609 - accuracy: 0.8172\n",
            "Epoch 80/100\n",
            "377/377 [==============================] - 5s 12ms/step - loss: 0.6566 - accuracy: 0.8174\n",
            "Epoch 81/100\n",
            "377/377 [==============================] - 5s 12ms/step - loss: 0.6546 - accuracy: 0.8177\n",
            "Epoch 82/100\n",
            "377/377 [==============================] - 4s 12ms/step - loss: 0.6443 - accuracy: 0.8216\n",
            "Epoch 83/100\n",
            "377/377 [==============================] - 4s 12ms/step - loss: 0.6475 - accuracy: 0.8191\n",
            "Epoch 84/100\n",
            "377/377 [==============================] - 4s 12ms/step - loss: 0.6338 - accuracy: 0.8223\n",
            "Epoch 85/100\n",
            "377/377 [==============================] - 4s 11ms/step - loss: 0.6295 - accuracy: 0.8246\n",
            "Epoch 86/100\n",
            "377/377 [==============================] - 5s 12ms/step - loss: 0.6215 - accuracy: 0.8251\n",
            "Epoch 87/100\n",
            "377/377 [==============================] - 4s 12ms/step - loss: 0.6324 - accuracy: 0.8249\n",
            "Epoch 88/100\n",
            "377/377 [==============================] - 5s 12ms/step - loss: 0.6195 - accuracy: 0.8251\n",
            "Epoch 89/100\n",
            "377/377 [==============================] - 4s 12ms/step - loss: 0.6201 - accuracy: 0.8232\n",
            "Epoch 90/100\n",
            "377/377 [==============================] - 4s 12ms/step - loss: 0.6136 - accuracy: 0.8243\n",
            "Epoch 91/100\n",
            "377/377 [==============================] - 4s 12ms/step - loss: 0.6112 - accuracy: 0.8261\n",
            "Epoch 92/100\n",
            "377/377 [==============================] - 4s 12ms/step - loss: 0.6088 - accuracy: 0.8278\n",
            "Epoch 93/100\n",
            "377/377 [==============================] - 4s 11ms/step - loss: 0.6159 - accuracy: 0.8225\n",
            "Epoch 94/100\n",
            "377/377 [==============================] - 4s 11ms/step - loss: 0.6198 - accuracy: 0.8290\n",
            "Epoch 95/100\n",
            "377/377 [==============================] - 4s 11ms/step - loss: 0.6078 - accuracy: 0.8256\n",
            "Epoch 96/100\n",
            "377/377 [==============================] - 4s 12ms/step - loss: 0.6018 - accuracy: 0.8294\n",
            "Epoch 97/100\n",
            "377/377 [==============================] - 5s 12ms/step - loss: 0.6145 - accuracy: 0.8234\n",
            "Epoch 98/100\n",
            "377/377 [==============================] - 4s 12ms/step - loss: 0.6011 - accuracy: 0.8285\n",
            "Epoch 99/100\n",
            "377/377 [==============================] - 4s 11ms/step - loss: 0.5895 - accuracy: 0.8302\n",
            "Epoch 100/100\n",
            "377/377 [==============================] - 5s 12ms/step - loss: 0.5903 - accuracy: 0.8320\n"
          ],
          "name": "stdout"
        }
      ]
    },
    {
      "cell_type": "code",
      "metadata": {
        "id": "okLsCAwdH2Xm",
        "outputId": "a25e3551-d209-4bd0-f21e-9cd38855c373",
        "colab": {
          "base_uri": "https://localhost:8080/",
          "height": 279
        }
      },
      "source": [
        "import matplotlib.pyplot as plt\n",
        "\n",
        "\n",
        "def plot_graphs(history, string):\n",
        "  plt.plot(history.history[string])\n",
        "  plt.xlabel(\"Epochs\")\n",
        "  plt.ylabel(string)\n",
        "  plt.show()\n",
        "\n",
        "plot_graphs(history, 'accuracy')"
      ],
      "execution_count": 8,
      "outputs": [
        {
          "output_type": "display_data",
          "data": {
            "image/png": "[encoded data removed]",
            "text/plain": [
              "<Figure size 432x288 with 1 Axes>"
            ]
          },
          "metadata": {
            "tags": [],
            "needs_background": "light"
          }
        }
      ]
    },
    {
      "cell_type": "code",
      "metadata": {
        "id": "wV2DfecCNDcF",
        "outputId": "bd15a385-2d68-47a4-f214-68ce25781881",
        "colab": {
          "base_uri": "https://localhost:8080/"
        }
      },
      "source": [
        "import numpy as np\n",
        "tf.keras.backend.set_floatx('float64')\n",
        "\n",
        "generate_num = 100\n",
        "test_data = \"I got a bad feeling about this\"\n",
        "test_sequence = tokenizer.texts_to_sequences([test_data])\n",
        "test_sequence = pad_sequences(test_sequence, padding='pre', maxlen=maxlen)\n",
        "for i in range(generate_num):\n",
        "  z = np.zeros((test_sequence.shape[0], test_sequence.shape[1]+1))\n",
        "  z[:,:-1] = test_sequence\n",
        "  z[:, -1] = tf.argmax(model(test_sequence), axis=1).numpy()[0]\n",
        "  test_sequence = z\n",
        "\n",
        "print(f'Generate from \"{test_data}\" -> ', ' '.join(tokenizer.sequences_to_texts(test_sequence)[0].split()[-generate_num - len(test_data.split()):]))"
      ],
      "execution_count": 26,
      "outputs": [
        {
          "output_type": "stream",
          "text": [
            "Generate from \"I got a bad feeling about this\" ->  i got a bad feeling about this fathers rude and play the sea may be rough can be and sport and play the wild rover no hair in fray ye thee more and fair fell to the coolin her heart in my caubeen was hair and they took me rarely i did meet you all you have my thyme a peeping thru night it was painted married to the bower im in her lover do be he did lazy mans part part he and a pity and how they did be be lazy love part be agree agree agree agree agree run from their own be love\n"
          ],
          "name": "stdout"
        }
      ]
    },
    {
      "cell_type": "code",
      "metadata": {
        "id": "SGTSpX5Sxnuu"
      },
      "source": [
        ""
      ],
      "execution_count": null,
      "outputs": []
    }
  ]
}